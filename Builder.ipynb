{
 "cells": [
  {
   "cell_type": "markdown",
   "metadata": {},
   "source": [
    "# Builder"
   ]
  },
  {
   "cell_type": "code",
   "execution_count": null,
   "metadata": {},
   "outputs": [],
   "source": [
    "class HtmlElement:\n",
    "    indent_size = 2\n",
    "\n",
    "    def __init__(self, name=\"\", text=\"\"):\n",
    "        self.text = text\n",
    "        self.name = name\n",
    "        self.elements = []\n",
    "\n",
    "    def __str(self, indent):\n",
    "        line = []\n",
    "        i = \" \" * (indent * self.indent_size)\n",
    "        line.append(f\"{i}<{self.name}>\")\n",
    "        if self.text:\n",
    "            i1 = \" \" * ((indent + 1) * self.indent_size)\n",
    "            line.append(f\"{i1}{self.text}\")\n",
    "        for e in self.elements:\n",
    "            line.append(e.__str(indent + 1))\n",
    "        line.append(f\"{i}</{self.name}>\")\n",
    "        return \"\\n\".join(line)\n",
    "    def __str__(self):\n",
    "        return self.__str(0)\n",
    "\n",
    "    @staticmethod\n",
    "    def create(name):\n",
    "        return HtmlElement(name)\n",
    "    \n",
    "    \n"
   ]
  },
  {
   "cell_type": "code",
   "execution_count": null,
   "metadata": {},
   "outputs": [],
   "source": [
    "class HtmlBuilder:\n",
    "    def __init__(self, root_name):\n",
    "        self.root_name = root_name\n",
    "        self.__root = HtmlElement(name=root_name)\n",
    "\n",
    "    def add_child(self, child_name, child_text):\n",
    "        self.__root.elements.append(HtmlElement(child_name, child_text))\n",
    "\n",
    "    def add_child_fluent(self, child_name, child_text):\n",
    "        self.__root.elements.append(HtmlElement(child_name, child_text))\n",
    "        return self\n",
    "\n",
    "    def __str__(self):\n",
    "        return str(self.__root)\n"
   ]
  },
  {
   "cell_type": "code",
   "execution_count": 26,
   "metadata": {},
   "outputs": [
    {
     "name": "stdout",
     "output_type": "stream",
     "text": [
      "Address: thanh chan, ABC123AB, Dien bien phuEmployed at fsoft as a ABC123AB earning income 123413\n"
     ]
    }
   ],
   "source": [
    "class Person:\n",
    "    def __init__(self):\n",
    "        # address\n",
    "        self.street_address = None\n",
    "        self.postcode = None\n",
    "        self.city = None\n",
    "        # employment\n",
    "        self.company_name = None\n",
    "        self.position = None\n",
    "        self.annual_income = None\n",
    "\n",
    "    def __str__(self):\n",
    "        return (\n",
    "            f\"Address: {self.street_address}, {self.postcode}, {self.city}\"\n",
    "            + f\"Employed at {self.company_name} as a {self.postcode} earning income {self.annual_income}\"\n",
    "        )\n",
    "\n",
    "\n",
    "class PersonBuilder:\n",
    "    def __init__(self, person=None):\n",
    "        if not person:\n",
    "            self.person = Person()\n",
    "        else:\n",
    "            self.person = person\n",
    "\n",
    "    @property\n",
    "    def lives(self):\n",
    "        return PersonAddressBuilder(self.person)\n",
    "\n",
    "    @property\n",
    "    def works(self):\n",
    "        return PersonJobBuilder(self.person)\n",
    "\n",
    "    def build(self):\n",
    "        return self.person\n",
    "\n",
    "\n",
    "class PersonJobBuilder(PersonBuilder):\n",
    "    def __init__(self, person):\n",
    "        super().__init__(person)\n",
    "\n",
    "    def at(self, company_name):\n",
    "        self.person.company_name = company_name\n",
    "        return self\n",
    "\n",
    "    def as_a(self, position):\n",
    "        self.person.position = position\n",
    "        return self\n",
    "\n",
    "    def earning(self, annual_income):\n",
    "        self.person.annual_income = annual_income\n",
    "        return self\n",
    "\n",
    "\n",
    "class PersonAddressBuilder(PersonBuilder):\n",
    "    def __init__(self, person):\n",
    "        super().__init__(person)\n",
    "\n",
    "    def at(self, street_address):\n",
    "        self.person.street_address = street_address\n",
    "        return self\n",
    "\n",
    "    def with_postcode(self, postcode):\n",
    "        self.person.postcode = postcode\n",
    "        return self\n",
    "\n",
    "    def in_city(self, city):\n",
    "        self.person.city = city\n",
    "        return self\n",
    "\n",
    "\n",
    "pb = PersonBuilder()\n",
    "person = (\n",
    "    pb.lives.at(\"thanh chan\")\n",
    "    .in_city(\"Dien bien phu\")\n",
    "    .with_postcode(\"ABC123AB\")\n",
    "    .works.at(\"fsoft\")\n",
    "    .as_a(\"abc\")\n",
    "    .earning(\"123413\")\n",
    "    .build()\n",
    ")\n",
    "print(person)\n"
   ]
  },
  {
   "cell_type": "markdown",
   "metadata": {},
   "source": [
    "# Builder coding exercise\n",
    "Tạo class buider để tạo ra code giống với bên dưới:\n",
    "cb = CodeBuilder(\"Person\").add_field(\"name\", '\"\"').add_field(\"age\", \"0\")\n",
    "print(cb)\n",
    "\n",
    "result:\n",
    "class Person:\n",
    "    def __init__(self):\n",
    "        self.name = \"\"\n",
    "        self.age = 0"
   ]
  },
  {
   "cell_type": "code",
   "execution_count": 18,
   "metadata": {},
   "outputs": [
    {
     "name": "stdout",
     "output_type": "stream",
     "text": [
      "class Person:\n",
      "    def __init__(self):\n",
      "        self.name = \"\"\n",
      "        self.age = 0\n"
     ]
    }
   ],
   "source": [
    "class Field:\n",
    "    def __init__(self, type, name):\n",
    "        self.type = type\n",
    "        self.name = name\n",
    "\n",
    "    def __str__(self):\n",
    "        return f\"self.{self.type} = {self.name}\"\n",
    "\n",
    "\n",
    "class Class:\n",
    "    def __init__(self, name):\n",
    "        self.name = name\n",
    "        self.fields = []\n",
    "\n",
    "    def __str__(self):\n",
    "        lines = [f\"class {self.name}:\"]\n",
    "        if not self.fields:\n",
    "            lines.append(\"    pass\")\n",
    "        else:\n",
    "            lines.append(\"    def __init__(self):\")\n",
    "            for field in self.fields:\n",
    "\n",
    "                lines.append(f\"        {field}\")\n",
    "\n",
    "        return \"\\n\".join(lines)\n",
    "\n",
    "\n",
    "class CodeBuilder:\n",
    "    def __init__(self, root_name):\n",
    "        self.__class = Class(root_name)\n",
    "\n",
    "    def add_field(self, type, name):\n",
    "        self.__class.fields.append(Field(type, name))\n",
    "        return self\n",
    "\n",
    "    def __str__(self):\n",
    "        return self.__class.__str__()\n",
    "\n",
    "\n",
    "cb = CodeBuilder(\"Person\").add_field(\"name\", '\"\"').add_field(\"age\", \"0\")\n",
    "print(cb)\n"
   ]
  }
 ],
 "metadata": {
  "kernelspec": {
   "display_name": "Python 3.10.6 64-bit",
   "language": "python",
   "name": "python3"
  },
  "language_info": {
   "codemirror_mode": {
    "name": "ipython",
    "version": 3
   },
   "file_extension": ".py",
   "mimetype": "text/x-python",
   "name": "python",
   "nbconvert_exporter": "python",
   "pygments_lexer": "ipython3",
   "version": "3.10.8"
  },
  "orig_nbformat": 4,
  "vscode": {
   "interpreter": {
    "hash": "39bb5f040324cd5bdfb04e9991e86fae456ce941224562c87366ea4f879b35e3"
   }
  }
 },
 "nbformat": 4,
 "nbformat_minor": 2
}
