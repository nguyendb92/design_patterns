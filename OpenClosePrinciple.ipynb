{
 "cells": [
  {
   "cell_type": "markdown",
   "metadata": {},
   "source": [
    "# Open/close principle"
   ]
  },
  {
   "cell_type": "code",
   "execution_count": 3,
   "metadata": {},
   "outputs": [],
   "source": [
    "from enum import Enum\n",
    "\n",
    "\n",
    "class Color(Enum):\n",
    "    RED = 1\n",
    "    GREEN = 2\n",
    "    BlUE = 3\n",
    "\n",
    "\n",
    "class Size(Enum):\n",
    "    SMALL = 1\n",
    "    MEDIUM = 2\n",
    "    LARGE = 3\n",
    "\n",
    "\n",
    "# OCP = open for extension, closed for modification\n",
    "class Product:\n",
    "    def __init__(self, name, color, size):\n",
    "        self.name = name\n",
    "        self.color = color\n",
    "        self.size = size\n",
    "\n",
    "\n",
    "class ProductFilter:\n",
    "    def filter_by_color(self, products, color):\n",
    "        for p in products:\n",
    "            if p.color == color:\n",
    "                yield p\n",
    "\n",
    "    def filter_by_size(self, products, size):\n",
    "        for p in products:\n",
    "            if p.size == size:\n",
    "                yield p\n",
    "\n",
    "    def filter_by_size_and_color(self, products, size, color):\n",
    "        for p in products:\n",
    "            if p.color == color and p.size == size:\n",
    "                yield p\n"
   ]
  },
  {
   "cell_type": "markdown",
   "metadata": {},
   "source": [
    "# Specification"
   ]
  },
  {
   "cell_type": "code",
   "execution_count": 9,
   "metadata": {},
   "outputs": [
    {
     "name": "stdout",
     "output_type": "stream",
     "text": [
      "Green products (old)\n",
      "  - Apple is green\n",
      "  - Tree is green\n",
      "  - House is green\n",
      "Green products (new):\n",
      "  - Apple is green\n",
      "  - Tree is green\n",
      "  - House is green\n"
     ]
    }
   ],
   "source": [
    "class Specification:\n",
    "    def is_satisfied(self, item):\n",
    "        pass\n",
    "\n",
    "\n",
    "class Filter:\n",
    "    def filter(self, items, spec):\n",
    "        pass\n",
    "\n",
    "\n",
    "class ColorSpecification(Specification):\n",
    "    def __init__(self, color):\n",
    "        self.color = color\n",
    "\n",
    "    def is_satisfied(self, item):\n",
    "        return item.color == self.color\n",
    "\n",
    "\n",
    "class SizeSpecification(Specification):\n",
    "    def __init__(self, color):\n",
    "        self.size = size\n",
    "\n",
    "    def is_satisfied(self, item):\n",
    "        return item.size == self.size\n",
    "\n",
    "\n",
    "class BetterFilter(Filter):\n",
    "    def filter(self, items, spec):\n",
    "        for item in items:\n",
    "            if spec.is_satisfied(item):\n",
    "                yield item\n",
    "\n",
    "\n",
    "if __name__ == \"__main__\":\n",
    "    apple = Product(\"Apple\", Color.GREEN, Size.SMALL)\n",
    "    tree = Product(\"Tree\", Color.GREEN, Size.SMALL)\n",
    "    house = Product(\"House\", Color.GREEN, Size.SMALL)\n",
    "\n",
    "    products = [apple, tree, house]\n",
    "    pf = ProductFilter()\n",
    "    print(\"Green products (old)\")\n",
    "    for p in pf.filter_by_color(products, Color.GREEN):\n",
    "        print(f\"  - {p.name} is green\")\n",
    "\n",
    "    bf = BetterFilter()\n",
    "    print(\"Green products (new):\")\n",
    "    green = ColorSpecification(Color.GREEN)\n",
    "    for p in bf.filter(products, green):\n",
    "        print(f\"  - {p.name} is green\")\n"
   ]
  },
  {
   "cell_type": "code",
   "execution_count": null,
   "metadata": {},
   "outputs": [],
   "source": []
  }
 ],
 "metadata": {
  "kernelspec": {
   "display_name": "Python 3.10.6 64-bit",
   "language": "python",
   "name": "python3"
  },
  "language_info": {
   "codemirror_mode": {
    "name": "ipython",
    "version": 3
   },
   "file_extension": ".py",
   "mimetype": "text/x-python",
   "name": "python",
   "nbconvert_exporter": "python",
   "pygments_lexer": "ipython3",
   "version": "3.10.6"
  },
  "orig_nbformat": 4,
  "vscode": {
   "interpreter": {
    "hash": "39bb5f040324cd5bdfb04e9991e86fae456ce941224562c87366ea4f879b35e3"
   }
  }
 },
 "nbformat": 4,
 "nbformat_minor": 2
}
