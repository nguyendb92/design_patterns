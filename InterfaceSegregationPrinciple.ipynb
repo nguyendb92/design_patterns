{
 "cells": [
  {
   "cell_type": "markdown",
   "metadata": {},
   "source": [
    "# ISP"
   ]
  },
  {
   "cell_type": "code",
   "execution_count": 1,
   "metadata": {},
   "outputs": [],
   "source": [
    "class Machine:\n",
    "    def print(self, document):\n",
    "        raise NotImplementedError\n",
    "\n",
    "    def fax(self, document):\n",
    "        raise NotImplementedError\n",
    "\n",
    "    def scan(self, document):\n",
    "        raise NotImplementedError\n",
    "\n",
    "\n",
    "class MultiFunctionPrinter(Machine):\n",
    "    def print(self, document):\n",
    "        pass\n",
    "\n",
    "    def fax(self, document):\n",
    "        pass\n",
    "\n",
    "    def scan(self, document):\n",
    "        pass\n",
    "\n",
    "\n",
    "class OldFashionedPrinter(Machine):\n",
    "    def print(self, document):\n",
    "        # ok\n",
    "        pass\n",
    "\n",
    "    def fax(self, document):\n",
    "        # noop\n",
    "        pass\n",
    "\n",
    "    def scan(self, document):\n",
    "        \"\"\"Not support\"\"\"\n",
    "        # continue problem\n",
    "        raise NotADirectoryError('Printer cannot scan!')\n"
   ]
  },
  {
   "cell_type": "markdown",
   "metadata": {},
   "source": [
    " class OldFashionedPrinter là ví dụ cho việc kế thừa những interfaces không cần thiết vi phạm vào ISP"
   ]
  },
  {
   "cell_type": "code",
   "execution_count": 2,
   "metadata": {},
   "outputs": [],
   "source": [
    "# refactor\n",
    "# Chúng ta sẽ tách nhỏ interface\n",
    "from abc import abstractmethod\n",
    "\n",
    "\n",
    "class Printer:\n",
    "    @abstractmethod\n",
    "    def print(self, document):\n",
    "        pass\n",
    "\n",
    "\n",
    "class Scanner:\n",
    "    @abstractmethod\n",
    "    def scan(self, document):\n",
    "        pass\n",
    "\n",
    "\n",
    "class MyPrinter(Printer):\n",
    "    def print(self, document):\n",
    "        pass\n",
    "\n",
    "    def scan(self, document):\n",
    "        pass\n",
    "\n",
    "class MultiFunctionDevice(Printer, Scanner):\n",
    "    @abstractmethod\n",
    "    def print(self, document):\n",
    "        pass\n",
    "    @abstractmethod\n",
    "    def scan(self, document):\n",
    "        pass\n",
    "    \n",
    "class MultiFunctionMachine(MultiFunctionDevice):\n",
    "    def __init__(self, printer, scanner):\n",
    "        self.scanner = scanner\n",
    "        self.printer = printer\n",
    "    \n",
    "    def print(self, document):\n",
    "        self.printer.print(document)\n",
    "        \n",
    "    def scan(self, document):\n",
    "        self.scanner.scan(document)"
   ]
  },
  {
   "cell_type": "markdown",
   "metadata": {},
   "source": [
    "# trên đây là ví dụ về nguyên tắc I trong solid\n",
    "\n",
    "> Chúng ta luôn phải chia nhỏ interface để tránh việc lớp con kế thừa những method không dùng đến."
   ]
  }
 ],
 "metadata": {
  "kernelspec": {
   "display_name": "Python 3.10.6 64-bit",
   "language": "python",
   "name": "python3"
  },
  "language_info": {
   "codemirror_mode": {
    "name": "ipython",
    "version": 3
   },
   "file_extension": ".py",
   "mimetype": "text/x-python",
   "name": "python",
   "nbconvert_exporter": "python",
   "pygments_lexer": "ipython3",
   "version": "3.10.8"
  },
  "orig_nbformat": 4,
  "vscode": {
   "interpreter": {
    "hash": "39bb5f040324cd5bdfb04e9991e86fae456ce941224562c87366ea4f879b35e3"
   }
  }
 },
 "nbformat": 4,
 "nbformat_minor": 2
}
