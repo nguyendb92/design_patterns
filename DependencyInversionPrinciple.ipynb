{
 "cells": [
  {
   "cell_type": "markdown",
   "metadata": {},
   "source": [
    "# DIP\n"
   ]
  },
  {
   "cell_type": "code",
   "execution_count": 5,
   "metadata": {},
   "outputs": [
    {
     "name": "stdout",
     "output_type": "stream",
     "text": [
      "John has a child called Chris.\n",
      "John has a child called Matt.\n"
     ]
    },
    {
     "data": {
      "text/plain": [
       "<__main__.Research at 0x17b7bdffb50>"
      ]
     },
     "execution_count": 5,
     "metadata": {},
     "output_type": "execute_result"
    }
   ],
   "source": [
    "from enum import Enum\n",
    "\n",
    "\n",
    "class Relationship(Enum):\n",
    "    PARENT = 0\n",
    "    CHILD = 1\n",
    "    SIBLING = 2\n",
    "\n",
    "\n",
    "class Person:\n",
    "    def __init__(self, name):\n",
    "        self.name = name\n",
    "\n",
    "\n",
    "class Relationships:\n",
    "    def __init__(self):\n",
    "        self.relations = []\n",
    "\n",
    "    def add_parent_and_child(self, parent, child):\n",
    "        self.relations.append((parent, Relationship.PARENT, child))\n",
    "        self.relations.append((child, Relationship.CHILD, parent))\n",
    "\n",
    "\n",
    "class Research:\n",
    "    def __init__(self, relationships):\n",
    "        relations = relationships.relations\n",
    "        for r in relations:\n",
    "            if r[0].name == \"John\" and r[1] == Relationship.PARENT:\n",
    "                print(f\"John has a child called {r[2].name}.\")\n",
    "\n",
    "\n",
    "parent = Person(\"John\")\n",
    "child1 = Person(\"Chris\")\n",
    "child2 = Person(\"Matt\")\n",
    "\n",
    "relationships = Relationships()\n",
    "relationships.add_parent_and_child(parent, child1)\n",
    "relationships.add_parent_and_child(parent, child2)\n",
    "Research(relationships)"
   ]
  },
  {
   "cell_type": "markdown",
   "metadata": {},
   "source": [
    "Ví dụ bên trên đã vi phạm DIP"
   ]
  },
  {
   "cell_type": "code",
   "execution_count": 11,
   "metadata": {},
   "outputs": [
    {
     "name": "stdout",
     "output_type": "stream",
     "text": [
      "John has a child called Chris.\n",
      "John has a child called Matt.\n"
     ]
    },
    {
     "data": {
      "text/plain": [
       "<__main__.Research at 0x17b7e6ff6d0>"
      ]
     },
     "execution_count": 11,
     "metadata": {},
     "output_type": "execute_result"
    }
   ],
   "source": [
    "# Fix it\n",
    "\n",
    "from enum import Enum\n",
    "from abc import abstractmethod\n",
    "\n",
    "\n",
    "class Relationship(Enum):\n",
    "    PARENT = 0\n",
    "    CHILD = 1\n",
    "    SIBLING = 2\n",
    "\n",
    "\n",
    "class Person:\n",
    "    def __init__(self, name):\n",
    "        self.name = name\n",
    "\n",
    "\n",
    "class RelationshipBrowser:\n",
    "    @abstractmethod\n",
    "    def find_all_children_of(self, name):\n",
    "        pass\n",
    "\n",
    "\n",
    "class Relationships(RelationshipBrowser):\n",
    "    def __init__(self):\n",
    "        self.relations = []\n",
    "\n",
    "    def add_parent_and_child(self, parent, child):\n",
    "        self.relations.append((parent, Relationship.PARENT, child))\n",
    "        self.relations.append((child, Relationship.CHILD, parent))\n",
    "    \n",
    "    def find_all_children_of(self, name):\n",
    "        for r in self.relations:\n",
    "            if r[0].name == name and r[1] == Relationship.PARENT:\n",
    "                yield r[2].name\n",
    "\n",
    "\n",
    "class Research:\n",
    "    def __init__(self, browser):\n",
    "        relations = browser.find_all_children_of(\"John\")\n",
    "        for name in relations:\n",
    "            print(f\"John has a child called {name}.\")\n",
    "\n",
    "\n",
    "parent = Person(\"John\")\n",
    "child1 = Person(\"Chris\")\n",
    "child2 = Person(\"Matt\")\n",
    "\n",
    "relationships = Relationships()\n",
    "relationships.add_parent_and_child(parent, child1)\n",
    "relationships.add_parent_and_child(parent, child2)\n",
    "Research(relationships)\n"
   ]
  }
 ],
 "metadata": {
  "kernelspec": {
   "display_name": "Python 3.10.6 64-bit",
   "language": "python",
   "name": "python3"
  },
  "language_info": {
   "codemirror_mode": {
    "name": "ipython",
    "version": 3
   },
   "file_extension": ".py",
   "mimetype": "text/x-python",
   "name": "python",
   "nbconvert_exporter": "python",
   "pygments_lexer": "ipython3",
   "version": "3.10.8"
  },
  "orig_nbformat": 4,
  "vscode": {
   "interpreter": {
    "hash": "39bb5f040324cd5bdfb04e9991e86fae456ce941224562c87366ea4f879b35e3"
   }
  }
 },
 "nbformat": 4,
 "nbformat_minor": 2
}
