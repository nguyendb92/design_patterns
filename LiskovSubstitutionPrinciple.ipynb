{
 "cells": [
  {
   "cell_type": "markdown",
   "metadata": {},
   "source": [
    "# LSP\n"
   ]
  },
  {
   "cell_type": "code",
   "execution_count": 2,
   "metadata": {},
   "outputs": [
    {
     "name": "stdout",
     "output_type": "stream",
     "text": [
      "Expected an area of 20, got 20\n"
     ]
    }
   ],
   "source": [
    "class Rectangle:\n",
    "    def __init__(self, width, height):\n",
    "        self._width = width\n",
    "        self._height = height\n",
    "        \n",
    "    @property\n",
    "    def area(self):\n",
    "        return self._width * self._height\n",
    "    \n",
    "    def __str__(self):\n",
    "        return f'Width: {self.width}, height: {self.height}'\n",
    "\n",
    "    @property\n",
    "    def width(self):\n",
    "        return self._width\n",
    "\n",
    "    @width.setter\n",
    "    def width(self, value):\n",
    "        self._width = value\n",
    "        \n",
    "    \n",
    "    @property\n",
    "    def height(self):\n",
    "        return self._height\n",
    "    \n",
    "    @height.setter\n",
    "    def height(self, value):\n",
    "        self._height = value\n",
    "    \n",
    "\n",
    "def use_it(rc):\n",
    "    w = rc.width\n",
    "    rc.height = 10\n",
    "    expected = int(w*10)\n",
    "    print(f'Expected an area of {expected}, got {rc.area}') \n",
    "\n",
    "rc = Rectangle(2, 3)\n",
    "use_it(rc)"
   ]
  },
  {
   "cell_type": "markdown",
   "metadata": {},
   "source": [
    "# Đến khi  có class Square xuất hiện mọi thứ đã thay đổi"
   ]
  },
  {
   "cell_type": "code",
   "execution_count": 3,
   "metadata": {},
   "outputs": [],
   "source": [
    "class Square(Rectangle):\n",
    "    def __init__(self, size):\n",
    "        Rectangle.__init__(self, size, size)\n",
    "\n",
    "    @Rectangle.width.setter\n",
    "    def width(self, value):\n",
    "        self._width = self._height = value\n",
    "\n",
    "    @Rectangle.height.setter\n",
    "    def height(self, value):\n",
    "        self._height = self._width = value\n"
   ]
  },
  {
   "cell_type": "code",
   "execution_count": 4,
   "metadata": {},
   "outputs": [
    {
     "name": "stdout",
     "output_type": "stream",
     "text": [
      "Expected an area of 50, got 100\n"
     ]
    }
   ],
   "source": [
    "sq = Square(5)\n",
    "use_it(sq)"
   ]
  },
  {
   "cell_type": "markdown",
   "metadata": {},
   "source": [
    "- Vấn đề đã xuất hiện diện tích đã không đúng ? tại sao vậy ta?\n",
    "    \n",
    "    > Vấn đề  nằm ở set height hay set width đều ảnh hưởng lẫn nhau\n",
    "\n",
    "    > => để giải quyết vấn đề thì sẽ cần phải tạo riêng class cho Square\n",
    "\n",
    "- VD trên vi phạm LSP cần tránh nếu gặp phải"
   ]
  }
 ],
 "metadata": {
  "kernelspec": {
   "display_name": "Python 3.10.6 64-bit",
   "language": "python",
   "name": "python3"
  },
  "language_info": {
   "codemirror_mode": {
    "name": "ipython",
    "version": 3
   },
   "file_extension": ".py",
   "mimetype": "text/x-python",
   "name": "python",
   "nbconvert_exporter": "python",
   "pygments_lexer": "ipython3",
   "version": "3.10.6"
  },
  "orig_nbformat": 4,
  "vscode": {
   "interpreter": {
    "hash": "39bb5f040324cd5bdfb04e9991e86fae456ce941224562c87366ea4f879b35e3"
   }
  }
 },
 "nbformat": 4,
 "nbformat_minor": 2
}
