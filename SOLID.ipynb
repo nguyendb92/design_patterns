{
 "cells": [
  {
   "cell_type": "code",
   "execution_count": 7,
   "metadata": {},
   "outputs": [],
   "source": [
    "class Journal:\n",
    "    def __init__(self):\n",
    "        self.entries = []\n",
    "        self.count = 0\n",
    "\n",
    "    def add_entry(self, text):\n",
    "        self.count += 1\n",
    "        self.entries.append(f\"{self.count}: {text}\")\n",
    "\n",
    "    def remove_entry(self, pos):\n",
    "        del self.entries[pos]\n",
    "\n",
    "    def __str__(self):\n",
    "        return \"\\n\".join(self.entries)\n",
    "\n",
    "    # Break SRP\n",
    "    # def save(self, filename):\n",
    "    #     file = open(filename, 'w')\n",
    "    #     file.write(str(self))\n",
    "    #     file.close()\n",
    "    \n",
    "    # def load(self, filename):\n",
    "    #     pass\n",
    "    \n",
    "    # def low_from_web(self, uri):\n",
    "    #     pass\n",
    "    \n",
    "class PersistenceManager:\n",
    "    \n",
    "    @staticmethod\n",
    "    def save_to_file(journal, filename):\n",
    "        file = open(filename, 'w')\n",
    "        file.write(str(journal))\n",
    "        file.close()\n"
   ]
  },
  {
   "cell_type": "markdown",
   "metadata": {},
   "source": [
    "### Methods in Journal class:\n",
    "- save\n",
    "- load\n",
    "- low_from_web\n",
    "  => Break Single Reponsibility princible"
   ]
  },
  {
   "cell_type": "code",
   "execution_count": 8,
   "metadata": {},
   "outputs": [
    {
     "name": "stdout",
     "output_type": "stream",
     "text": [
      "Journal entries: \n",
      "1: I cried today.\n",
      "2: I ate a bug.\n"
     ]
    }
   ],
   "source": [
    "j = Journal()\n",
    "j.add_entry(\"I cried today.\")\n",
    "j.add_entry('I ate a bug.')\n",
    "print(f'Journal entries: \\n{j}')\n",
    "\n",
    "PersistenceManager.save_to_file(j, \"temp.txt\")\n",
    "\n",
    "\n",
    "\n",
    "\n"
   ]
  }
 ],
 "metadata": {
  "kernelspec": {
   "display_name": "Python 3.10.6 64-bit",
   "language": "python",
   "name": "python3"
  },
  "language_info": {
   "codemirror_mode": {
    "name": "ipython",
    "version": 3
   },
   "file_extension": ".py",
   "mimetype": "text/x-python",
   "name": "python",
   "nbconvert_exporter": "python",
   "pygments_lexer": "ipython3",
   "version": "3.10.6"
  },
  "orig_nbformat": 4,
  "vscode": {
   "interpreter": {
    "hash": "39bb5f040324cd5bdfb04e9991e86fae456ce941224562c87366ea4f879b35e3"
   }
  }
 },
 "nbformat": 4,
 "nbformat_minor": 2
}
